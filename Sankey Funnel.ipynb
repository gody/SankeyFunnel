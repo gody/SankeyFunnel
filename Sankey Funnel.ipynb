{
 "cells": [
  {
   "cell_type": "markdown",
   "metadata": {},
   "source": [
    "# Sankey Sales Funnel"
   ]
  },
  {
   "cell_type": "code",
   "execution_count": 1,
   "metadata": {},
   "outputs": [],
   "source": [
    "import pandas as pd\n",
    "import numpy as np\n",
    "import json\n",
    "\n",
    "import plotly.graph_objects as go"
   ]
  },
  {
   "cell_type": "markdown",
   "metadata": {},
   "source": [
    "## Perfect Conditions Funnel"
   ]
  },
  {
   "cell_type": "code",
   "execution_count": 5,
   "metadata": {},
   "outputs": [],
   "source": [
    "fig = go.Figure(data=[go.Sankey(\n",
    "    node = dict(\n",
    "      pad = 15,\n",
    "      thickness = 20,\n",
    "      line = dict(color = \"black\", width = 0.5),\n",
    "      label = [\"Leads\", \"Stage 1\", \"Stage 2\", \"Stage 3\", \"Stage 4\", \"Stage 5\", \"Sale\"],\n",
    "      color = [\"blue\", \"red\", \"yellow\", \"green\", \"purple\", \"cyan\", \"black\"] \n",
    "    ),\n",
    "    link = dict(\n",
    "      source = [0, 1, 2, 3, 4, 5, 6],\n",
    "      target = [1, 2, 3, 4, 5, 6],\n",
    "      value = [90000, 75000, 45000, 35000, 20000, 5000]\n",
    "  ))])\n",
    "\n",
    "fig.update_layout(title_text=\"Ideal Sales Funnel\", font_size=10)\n",
    "fig.write_html('perfect_funnel.html', auto_open=True)"
   ]
  },
  {
   "cell_type": "markdown",
   "metadata": {},
   "source": [
    "## Skip Stages Funnel"
   ]
  },
  {
   "cell_type": "code",
   "execution_count": 12,
   "metadata": {},
   "outputs": [],
   "source": [
    "fig = go.Figure(data=[go.Sankey(\n",
    "    node = dict(\n",
    "      pad = 15,\n",
    "      thickness = 20,\n",
    "      line = dict(color = \"black\", width = 0.5),\n",
    "      label = [\"Leads\", \"Stage 1\", \"Stage 2\", \"Stage 3\", \"Stage 4\", \"Stage 5\", \"Sale\"],\n",
    "      color = [\"blue\", \"red\", \"yellow\", \"green\", \"purple\", \"cyan\", \"black\"] \n",
    "    ),\n",
    "    link = dict(\n",
    "      source = [0, 1, 1, 2, 2, 3, 3, 4, 5, 6],\n",
    "      target = [1, 2, 3, 3, 4, 4, 5, 5, 6],\n",
    "      value = [90000, 70000, 5000, 45000, 10000, 18000, 5000, 10000, 3000]\n",
    "  ))])\n",
    "\n",
    "fig.update_layout(title_text=\"Skip Stages Sales Funnel\", font_size=10)\n",
    "fig.write_html('skip_stage_funnel.html', auto_open=True)"
   ]
  },
  {
   "cell_type": "markdown",
   "metadata": {},
   "source": [
    "## Multiple Input/Sub Stages Funnel"
   ]
  },
  {
   "cell_type": "code",
   "execution_count": 26,
   "metadata": {},
   "outputs": [],
   "source": [
    "fig = go.Figure(data=[go.Sankey(\n",
    "    node = dict(\n",
    "      pad = 15,\n",
    "      thickness = 20,\n",
    "      line = dict(color = \"black\", width = 0.5),\n",
    "      label = [\"Online Leads\", \"Phone Leads\", \"Stage 1\", \"Stage 2\", \"Stage 3-1\", \"Stage 3-2\", \"Stage 4\", \"Stage 5\", \"Sale\"],\n",
    "      color = [\"blue\", \"blue\", \"red\", \"yellow\", \"green\", \"green\", \"purple\", \"cyan\", \"black\"] \n",
    "    ),\n",
    "    link = dict(\n",
    "      source = [0, 1, 2, 3, 3, 4, 5, 6, 7],\n",
    "      target = [2, 2, 3, 4, 5, 6, 6, 7, 8],\n",
    "      value = [45000, 45000, 70000, 15000, 45000, 10000, 18000, 8000, 3000]\n",
    "  ))])\n",
    "\n",
    "fig.update_layout(title_text=\"Multiple Input & Sub Stages Sales Funnel\", font_size=10)\n",
    "fig.write_html('multiple_input_funnel.html', auto_open=True)"
   ]
  },
  {
   "cell_type": "markdown",
   "metadata": {},
   "source": [
    "## Back"
   ]
  },
  {
   "cell_type": "code",
   "execution_count": 33,
   "metadata": {},
   "outputs": [],
   "source": [
    "fig = go.Figure(data=[go.Sankey(\n",
    "    node = dict(\n",
    "      pad = 15,\n",
    "      thickness = 20,\n",
    "      line = dict(color = \"black\", width = 0.5),\n",
    "      label = [\"Leads\", \"Stage 1\", \"Stage 2\", \"Stage 3\", \"Stage 4\", \"Stage 5\", \"Sale\"],\n",
    "      color = [\"blue\", \"red\", \"yellow\", \"green\", \"purple\", \"cyan\", \"black\"] \n",
    "    ),\n",
    "    link = dict(\n",
    "      source = [0, 1, 2, 2, 3, 3, 3, 4, 5, 6],\n",
    "      target = [1, 2, 3, 1, 4, 1, 2, 5, 6],\n",
    "      value = [90000, 70000, 35000, 3000, 15000, 2500, 5000, 7000, 3000]\n",
    "  ))])\n",
    "\n",
    "fig.update_layout(title_text=\"Go Back Stages Sales Funnel\", font_size=10)\n",
    "fig.write_html('go_back_funnel.html', auto_open=True)"
   ]
  },
  {
   "cell_type": "code",
   "execution_count": null,
   "metadata": {},
   "outputs": [],
   "source": []
  }
 ],
 "metadata": {
  "kernelspec": {
   "display_name": "Python 3",
   "language": "python",
   "name": "python3"
  },
  "language_info": {
   "codemirror_mode": {
    "name": "ipython",
    "version": 3
   },
   "file_extension": ".py",
   "mimetype": "text/x-python",
   "name": "python",
   "nbconvert_exporter": "python",
   "pygments_lexer": "ipython3",
   "version": "3.6.9"
  }
 },
 "nbformat": 4,
 "nbformat_minor": 4
}
